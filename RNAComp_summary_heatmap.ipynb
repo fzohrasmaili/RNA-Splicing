{
 "cells": [
  {
   "cell_type": "code",
   "execution_count": 1,
   "metadata": {},
   "outputs": [],
   "source": [
    "import sys\n",
    "import seaborn as sns\n",
    "import numpy as np \n",
    "import matplotlib\n",
    "import matplotlib.pyplot as plt\n",
    "from scipy.stats.stats import pearsonr, spearmanr\n",
    "import scipy.stats as stats\n",
    "from scipy.stats import gaussian_kde\n",
    "import pandas as pd"
   ]
  },
  {
   "cell_type": "code",
   "execution_count": 47,
   "metadata": {},
   "outputs": [],
   "source": [
    "#method = \"eclip\"\n",
    "method = \"clearclip\"\n",
    "\n",
    "RBP_name =  sys.argv[1]\n",
    "k =  7 #k-mer length\n",
    "Lgths = [10, 20, 50, 100, 200]  #peak length\n",
    "#RBP_list = [ \"HNRNPC\", \"HNRNPK\", \"HNRNPL\", \"TARDBP\", \"PCBP1\",\"FXR1\",\"PABPC4\",\"U2AF2\"]\n",
    "#RBP_list = [ \"HNRNPC\", \"HNRNPK\", \"HNRNPL\", \"TARDBP\", \"PCBP1\", \"FXR1\"]\n",
    "RBP_list = [\"RBM4\", \"RBM41\", \"RBM5\", \"RBM6\", \"SFPQ\"]\n",
    "#conc = 1300\n",
    "RBP_row_P = {}\n",
    "RBP_row_S = {}"
   ]
  },
  {
   "cell_type": "code",
   "execution_count": 48,
   "metadata": {},
   "outputs": [
    {
     "name": "stdout",
     "output_type": "stream",
     "text": [
      "RBM4\n",
      "RBM41\n",
      "RBM5\n",
      "RBM6\n",
      "SFPQ\n"
     ]
    }
   ],
   "source": [
    "for RBP_name in RBP_list:\n",
    "    print (RBP_name)\n",
    "    P_corr_vals= []\n",
    "    S_corr_vals = []\n",
    "    \n",
    "    #Extract BindnSeq enrichment scores \n",
    "    bind_enrich = {}\n",
    "    kmer_list = []\n",
    "    bind_file = open (f\"data/RNA_Compete/{RBP_name}.txt\",\"r\")\n",
    "    header = next (bind_file)\n",
    "    for line in bind_file:\n",
    "        bind_clms = line.split()\n",
    "        kmer = bind_clms[0]\n",
    "        kmer_list.append (kmer)\n",
    "        enrich_score = bind_clms[1]\n",
    "        #enrich_score = bind_clms[conc]#concentration 1 = 5, 2 = 20, 3= 80,4 = 320, 5 = 3200\n",
    "        bind_enrich[kmer] = float(enrich_score)\n",
    "        \n",
    "    #Extract clearCLIP/eCLIP enrichment score\n",
    "    method_enrichment_score = {} #with respect to flanking background\n",
    "    #L = 50\n",
    "    for L in Lgths:\n",
    "        method_enrichment_file = open(f\"data/{RBP_name}/{method}_{L}_peak_{k}-mer_enrichment.csv\", \"r\")\n",
    "        header = next(method_enrichment_file)\n",
    "        for enric_line in method_enrichment_file:\n",
    "            enric_clmns = enric_line.split()\n",
    "            kmer = enric_clmns[0]\n",
    "            enrich_score_back = enric_clmns[1]\n",
    "            method_enrichment_score[kmer] = float(enrich_score_back)\n",
    "        \n",
    "        #Calculate correlation values\n",
    "        Meth_List =[]\n",
    "        BIND_list=[]\n",
    "        for kmer in kmer_list:\n",
    "            try:\n",
    "                Meth_List.append(method_enrichment_score[kmer])\n",
    "                BIND_list.append(bind_enrich[kmer])\n",
    "            except:\n",
    "                continue\n",
    "        X = Meth_List\n",
    "        Y = BIND_list\n",
    "        p_corr = stats.pearsonr(X, Y)[0]\n",
    "        S_corr = stats.spearmanr(X, Y)[0]\n",
    "        P_corr_vals.append(p_corr)\n",
    "        S_corr_vals.append(S_corr)\n",
    "    RBP_row_P [RBP_name]= P_corr_vals\n",
    "    RBP_row_S [RBP_name]= S_corr_vals"
   ]
  },
  {
   "cell_type": "markdown",
   "metadata": {},
   "source": []
  },
  {
   "cell_type": "code",
   "execution_count": 49,
   "metadata": {},
   "outputs": [
    {
     "data": {
      "text/html": [
       "<div>\n",
       "<style scoped>\n",
       "    .dataframe tbody tr th:only-of-type {\n",
       "        vertical-align: middle;\n",
       "    }\n",
       "\n",
       "    .dataframe tbody tr th {\n",
       "        vertical-align: top;\n",
       "    }\n",
       "\n",
       "    .dataframe thead th {\n",
       "        text-align: right;\n",
       "    }\n",
       "</style>\n",
       "<table border=\"1\" class=\"dataframe\">\n",
       "  <thead>\n",
       "    <tr style=\"text-align: right;\">\n",
       "      <th></th>\n",
       "      <th>10</th>\n",
       "      <th>20</th>\n",
       "      <th>50</th>\n",
       "      <th>100</th>\n",
       "      <th>200</th>\n",
       "    </tr>\n",
       "  </thead>\n",
       "  <tbody>\n",
       "  </tbody>\n",
       "</table>\n",
       "</div>"
      ],
      "text/plain": [
       "Empty DataFrame\n",
       "Columns: [10, 20, 50, 100, 200]\n",
       "Index: []"
      ]
     },
     "execution_count": 49,
     "metadata": {},
     "output_type": "execute_result"
    }
   ],
   "source": [
    "#Define dataframe\n",
    "p_df =pd.DataFrame (columns = [\"10\",\"20\",\"50\",\"100\",\"200\"])\n",
    "p_df\n"
   ]
  },
  {
   "cell_type": "code",
   "execution_count": 50,
   "metadata": {},
   "outputs": [
    {
     "data": {
      "text/html": [
       "<div>\n",
       "<style scoped>\n",
       "    .dataframe tbody tr th:only-of-type {\n",
       "        vertical-align: middle;\n",
       "    }\n",
       "\n",
       "    .dataframe tbody tr th {\n",
       "        vertical-align: top;\n",
       "    }\n",
       "\n",
       "    .dataframe thead th {\n",
       "        text-align: right;\n",
       "    }\n",
       "</style>\n",
       "<table border=\"1\" class=\"dataframe\">\n",
       "  <thead>\n",
       "    <tr style=\"text-align: right;\">\n",
       "      <th></th>\n",
       "      <th>10</th>\n",
       "      <th>20</th>\n",
       "      <th>50</th>\n",
       "      <th>100</th>\n",
       "      <th>200</th>\n",
       "    </tr>\n",
       "  </thead>\n",
       "  <tbody>\n",
       "    <tr>\n",
       "      <th>RBM4</th>\n",
       "      <td>0.261561</td>\n",
       "      <td>0.240809</td>\n",
       "      <td>0.268727</td>\n",
       "      <td>0.226116</td>\n",
       "      <td>0.184434</td>\n",
       "    </tr>\n",
       "    <tr>\n",
       "      <th>RBM41</th>\n",
       "      <td>-0.008113</td>\n",
       "      <td>-0.043598</td>\n",
       "      <td>-0.074954</td>\n",
       "      <td>0.006843</td>\n",
       "      <td>-0.089859</td>\n",
       "    </tr>\n",
       "    <tr>\n",
       "      <th>RBM5</th>\n",
       "      <td>-0.266023</td>\n",
       "      <td>-0.155810</td>\n",
       "      <td>0.031718</td>\n",
       "      <td>-0.043327</td>\n",
       "      <td>-0.019856</td>\n",
       "    </tr>\n",
       "    <tr>\n",
       "      <th>RBM6</th>\n",
       "      <td>0.177334</td>\n",
       "      <td>0.078127</td>\n",
       "      <td>0.019367</td>\n",
       "      <td>0.077003</td>\n",
       "      <td>0.061319</td>\n",
       "    </tr>\n",
       "    <tr>\n",
       "      <th>SFPQ</th>\n",
       "      <td>0.085466</td>\n",
       "      <td>-0.029988</td>\n",
       "      <td>0.196318</td>\n",
       "      <td>0.153482</td>\n",
       "      <td>0.143339</td>\n",
       "    </tr>\n",
       "  </tbody>\n",
       "</table>\n",
       "</div>"
      ],
      "text/plain": [
       "             10        20        50       100       200\n",
       "RBM4   0.261561  0.240809  0.268727  0.226116  0.184434\n",
       "RBM41 -0.008113 -0.043598 -0.074954  0.006843 -0.089859\n",
       "RBM5  -0.266023 -0.155810  0.031718 -0.043327 -0.019856\n",
       "RBM6   0.177334  0.078127  0.019367  0.077003  0.061319\n",
       "SFPQ   0.085466 -0.029988  0.196318  0.153482  0.143339"
      ]
     },
     "execution_count": 50,
     "metadata": {},
     "output_type": "execute_result"
    }
   ],
   "source": [
    "for RBP_name in RBP_list:\n",
    "    p_df.loc[RBP_name]= RBP_row_P[RBP_name]\n",
    "p_df"
   ]
  },
  {
   "cell_type": "code",
   "execution_count": 51,
   "metadata": {},
   "outputs": [
    {
     "data": {
      "text/html": [
       "<div>\n",
       "<style scoped>\n",
       "    .dataframe tbody tr th:only-of-type {\n",
       "        vertical-align: middle;\n",
       "    }\n",
       "\n",
       "    .dataframe tbody tr th {\n",
       "        vertical-align: top;\n",
       "    }\n",
       "\n",
       "    .dataframe thead th {\n",
       "        text-align: right;\n",
       "    }\n",
       "</style>\n",
       "<table border=\"1\" class=\"dataframe\">\n",
       "  <thead>\n",
       "    <tr style=\"text-align: right;\">\n",
       "      <th></th>\n",
       "      <th>10</th>\n",
       "      <th>20</th>\n",
       "      <th>50</th>\n",
       "      <th>100</th>\n",
       "      <th>200</th>\n",
       "    </tr>\n",
       "  </thead>\n",
       "  <tbody>\n",
       "    <tr>\n",
       "      <th>RBM4</th>\n",
       "      <td>0.251012</td>\n",
       "      <td>0.284665</td>\n",
       "      <td>0.252109</td>\n",
       "      <td>0.242147</td>\n",
       "      <td>0.139085</td>\n",
       "    </tr>\n",
       "    <tr>\n",
       "      <th>RBM41</th>\n",
       "      <td>-0.020256</td>\n",
       "      <td>-0.043392</td>\n",
       "      <td>-0.101016</td>\n",
       "      <td>-0.016842</td>\n",
       "      <td>-0.111944</td>\n",
       "    </tr>\n",
       "    <tr>\n",
       "      <th>RBM5</th>\n",
       "      <td>-0.301456</td>\n",
       "      <td>-0.205185</td>\n",
       "      <td>0.003072</td>\n",
       "      <td>-0.079709</td>\n",
       "      <td>-0.071188</td>\n",
       "    </tr>\n",
       "    <tr>\n",
       "      <th>RBM6</th>\n",
       "      <td>0.160673</td>\n",
       "      <td>0.077274</td>\n",
       "      <td>0.021978</td>\n",
       "      <td>0.076152</td>\n",
       "      <td>0.070960</td>\n",
       "    </tr>\n",
       "    <tr>\n",
       "      <th>SFPQ</th>\n",
       "      <td>0.113154</td>\n",
       "      <td>0.007660</td>\n",
       "      <td>0.238707</td>\n",
       "      <td>0.163723</td>\n",
       "      <td>0.171710</td>\n",
       "    </tr>\n",
       "  </tbody>\n",
       "</table>\n",
       "</div>"
      ],
      "text/plain": [
       "             10        20        50       100       200\n",
       "RBM4   0.251012  0.284665  0.252109  0.242147  0.139085\n",
       "RBM41 -0.020256 -0.043392 -0.101016 -0.016842 -0.111944\n",
       "RBM5  -0.301456 -0.205185  0.003072 -0.079709 -0.071188\n",
       "RBM6   0.160673  0.077274  0.021978  0.076152  0.070960\n",
       "SFPQ   0.113154  0.007660  0.238707  0.163723  0.171710"
      ]
     },
     "execution_count": 51,
     "metadata": {},
     "output_type": "execute_result"
    }
   ],
   "source": [
    "s_df =pd.DataFrame (columns = [\"10\",\"20\",\"50\",\"100\",\"200\"])\n",
    "for RBP_name in RBP_list:\n",
    "    s_df.loc[RBP_name]= RBP_row_S[RBP_name]\n",
    "s_df"
   ]
  },
  {
   "cell_type": "code",
   "execution_count": 52,
   "metadata": {},
   "outputs": [],
   "source": [
    "def getCustomSymbol1(path_index=1):\n",
    "  if path_index==1:  #upper triangle\n",
    "      verts = [\n",
    "      (0.0,0.0),\n",
    "      (1.0,0.0),\n",
    "      (1.0,1.0),\n",
    "      (0.0,0.0),]\n",
    "  else:              #lower triangle\n",
    "      verts = [\n",
    "      (0.0,0.0),\n",
    "      (0.0,1.0),\n",
    "      (1.0,1.0),\n",
    "      (0.0,0.0),]\n",
    "  codes = [matplotlib.path.Path.MOVETO,\n",
    "           matplotlib.path.Path.LINETO,\n",
    "           matplotlib.path.Path.LINETO,\n",
    "           matplotlib.path.Path.CLOSEPOLY,\n",
    "           ] \n",
    "  pathCS1 = matplotlib.path.Path(verts, codes)\n",
    "  return pathCS1, verts\n",
    "\n",
    "def plot_mat1(matrix=np.random.rand(40,40), path_index=1, alpha=1, vmin=0., vmax=1.):\n",
    "    nx,ny = matrix.shape\n",
    "    X,Y,values = zip(*[ (i,j,matrix[i,j]) for i in range(nx) for j in range(ny) ] )\n",
    "    marker,verts = getCustomSymbol1(path_index=path_index)\n",
    "    ax.scatter(X,Y,s=4000, \n",
    "               marker=marker, \n",
    "               c=values, \n",
    "               #cmap='plasma', \n",
    "               alpha=alpha, \n",
    "               vmin=vmin, vmax=vmax )\n",
    "    return\n",
    "def plot_mat(matrix=np.random.rand(90,50), path_index=1, alpha=1, vmin=0., vmax=1.):\n",
    "    nx,ny = matrix.shape\n",
    "    X,Y,values = zip(*[ (i,j,matrix[i,j]) for i in range(nx) for j in range(ny) ] )\n",
    "    marker,verts = getCustomSymbol1(path_index=path_index)\n",
    "    #ax = plt.axes()\n",
    "    #sns.heatmap(df1, annot=True, ax = ax)\n",
    "    #ax.set_title(f'{method}')\n",
    "    ax.xaxis.tick_top()\n",
    "    #ax.set_xticklabels(Lgths)\n",
    "    #ax.set_yticklabels (RBP_list)\n",
    "    ax.scatter(X,Y,s=4000, \n",
    "               marker=marker, \n",
    "               c=values, \n",
    "               cmap='plasma', \n",
    "               alpha=alpha, \n",
    "               vmin=vmin, vmax=vmax)\n",
    "    return"
   ]
  },
  {
   "cell_type": "code",
   "execution_count": 53,
   "metadata": {},
   "outputs": [
    {
     "name": "stdout",
     "output_type": "stream",
     "text": [
      "K 7\n"
     ]
    },
    {
     "data": {
      "image/png": "[encoded data removed]",
      "text/plain": [
       "<Figure size 432x288 with 2 Axes>"
      ]
     },
     "metadata": {
      "needs_background": "light"
     },
     "output_type": "display_data"
    }
   ],
   "source": [
    "fig = plt.figure()\n",
    "ax = fig.add_subplot(111)\n",
    "A  = p_df.to_numpy()\n",
    "B  = s_df.to_numpy()\n",
    "vmin = 0\n",
    "vmax = 0.7\n",
    "print (\"K\",k)\n",
    "plot_mat(path_index=1,vmin=vmin,vmax=vmax,matrix=A.transpose())\n",
    "plot_mat(path_index=2,vmin=vmin,vmax=vmax,matrix=B.transpose())\n",
    "#plt.xlim([0,6])\n",
    "#plt.ylim([0,5])\n",
    "# for the colorbar i did the trick to make first a fake mappable:\n",
    "sm = plt.cm.ScalarMappable(cmap='plasma', norm=plt.Normalize(vmin=vmin, vmax=vmax ) )\n",
    "sm._A=[]\n",
    "#plt.xaxis.tick_top()\n",
    "#plt.set_x\n",
    "plt.colorbar(sm)\n",
    "plt.show()\n"
   ]
  }
 ],
 "metadata": {
  "kernelspec": {
   "display_name": "theano",
   "language": "python",
   "name": "python3"
  },
  "language_info": {
   "codemirror_mode": {
    "name": "ipython",
    "version": 3
   },
   "file_extension": ".py",
   "mimetype": "text/x-python",
   "name": "python",
   "nbconvert_exporter": "python",
   "pygments_lexer": "ipython3",
   "version": "3.7.10"
  },
  "orig_nbformat": 4,
  "vscode": {
   "interpreter": {
    "hash": "9c7d690efe0f14f7d84780569feed482fa05f4edcf2900ad1dd297eb3490dbe6"
   }
  }
 },
 "nbformat": 4,
 "nbformat_minor": 2
}
